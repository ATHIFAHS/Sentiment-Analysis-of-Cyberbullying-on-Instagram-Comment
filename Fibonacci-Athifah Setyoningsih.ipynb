{
 "cells": [
  {
   "cell_type": "markdown",
   "metadata": {},
   "source": [
    "# SENTIMENT ANALYSYS WITH FINE TURNING BERT"
   ]
  },
  {
   "cell_type": "markdown",
   "metadata": {},
   "source": [
    "## Import Library/Package"
   ]
  },
  {
   "cell_type": "code",
   "execution_count": 1,
   "metadata": {},
   "outputs": [],
   "source": [
    "import re\n",
    "import nltk\n",
    "from nltk import word_tokenize, sent_tokenize \n",
    "from nltk.corpus import stopwords \n",
    "import pandas as pd\n",
    "import warnings\n",
    "warnings.filterwarnings(\"ignore\")\n",
    "import numpy as np\n",
    "import pickle\n",
    "import random\n",
    "import matplotlib.pyplot as plt\n",
    "import seaborn as sns\n",
    "%matplotlib inline\n",
    "import tensorflow as tf"
   ]
  },
  {
   "cell_type": "code",
   "execution_count": 2,
   "metadata": {},
   "outputs": [],
   "source": [
    "import transformers\n",
    "from transformers import BertModel, BertTokenizer, TFBertForSequenceClassification"
   ]
  },
  {
   "cell_type": "markdown",
   "metadata": {},
   "source": [
    "## Data Acquisition"
   ]
  },
  {
   "cell_type": "markdown",
   "metadata": {},
   "source": [
    "Data diperoleh dari https://github.com/rizalespe/Dataset-Sentimen-Analisis-Bahasa-Indonesia."
   ]
  },
  {
   "cell_type": "code",
   "execution_count": 3,
   "metadata": {},
   "outputs": [
    {
     "data": {
      "text/html": [
       "<div>\n",
       "<style scoped>\n",
       "    .dataframe tbody tr th:only-of-type {\n",
       "        vertical-align: middle;\n",
       "    }\n",
       "\n",
       "    .dataframe tbody tr th {\n",
       "        vertical-align: top;\n",
       "    }\n",
       "\n",
       "    .dataframe thead th {\n",
       "        text-align: right;\n",
       "    }\n",
       "</style>\n",
       "<table border=\"1\" class=\"dataframe\">\n",
       "  <thead>\n",
       "    <tr style=\"text-align: right;\">\n",
       "      <th></th>\n",
       "      <th>Id</th>\n",
       "      <th>Sentiment</th>\n",
       "      <th>Instagram Comment Text</th>\n",
       "    </tr>\n",
       "  </thead>\n",
       "  <tbody>\n",
       "    <tr>\n",
       "      <th>0</th>\n",
       "      <td>1</td>\n",
       "      <td>negative</td>\n",
       "      <td>&lt;USERNAME&gt; TOLOL!! Gak ada hubungan nya kegug...</td>\n",
       "    </tr>\n",
       "    <tr>\n",
       "      <th>1</th>\n",
       "      <td>2</td>\n",
       "      <td>negative</td>\n",
       "      <td>Geblek lo tata...cowo bgt dibela2in balikan......</td>\n",
       "    </tr>\n",
       "    <tr>\n",
       "      <th>2</th>\n",
       "      <td>3</td>\n",
       "      <td>negative</td>\n",
       "      <td>Kmrn termewek2 skr lengket lg duhhh kok labil ...</td>\n",
       "    </tr>\n",
       "    <tr>\n",
       "      <th>3</th>\n",
       "      <td>4</td>\n",
       "      <td>negative</td>\n",
       "      <td>Intinya kalau kesel dengan ATT nya, gausah ke ...</td>\n",
       "    </tr>\n",
       "    <tr>\n",
       "      <th>4</th>\n",
       "      <td>5</td>\n",
       "      <td>negative</td>\n",
       "      <td>hadewwwww permpuan itu lg!!!!sakit jiwa,knp ha...</td>\n",
       "    </tr>\n",
       "  </tbody>\n",
       "</table>\n",
       "</div>"
      ],
      "text/plain": [
       "   Id Sentiment                             Instagram Comment Text\n",
       "0   1  negative   <USERNAME> TOLOL!! Gak ada hubungan nya kegug...\n",
       "1   2  negative  Geblek lo tata...cowo bgt dibela2in balikan......\n",
       "2   3  negative  Kmrn termewek2 skr lengket lg duhhh kok labil ...\n",
       "3   4  negative  Intinya kalau kesel dengan ATT nya, gausah ke ...\n",
       "4   5  negative  hadewwwww permpuan itu lg!!!!sakit jiwa,knp ha..."
      ]
     },
     "execution_count": 3,
     "metadata": {},
     "output_type": "execute_result"
    }
   ],
   "source": [
    "data = pd.read_csv(\"dataset_komentar_instagram_cyberbullying.csv\")\n",
    "data.head()"
   ]
  },
  {
   "cell_type": "code",
   "execution_count": 4,
   "metadata": {},
   "outputs": [],
   "source": [
    "data.rename(columns={'Sentiment': 'sentiment', 'Instagram Comment Text': 'text'}, inplace= True)"
   ]
  },
  {
   "cell_type": "code",
   "execution_count": 5,
   "metadata": {},
   "outputs": [],
   "source": [
    "data.dropna(inplace=True)"
   ]
  },
  {
   "cell_type": "code",
   "execution_count": 6,
   "metadata": {},
   "outputs": [
    {
     "name": "stdout",
     "output_type": "stream",
     "text": [
      "<class 'pandas.core.frame.DataFrame'>\n",
      "Int64Index: 400 entries, 0 to 399\n",
      "Data columns (total 3 columns):\n",
      " #   Column     Non-Null Count  Dtype \n",
      "---  ------     --------------  ----- \n",
      " 0   Id         400 non-null    int64 \n",
      " 1   sentiment  400 non-null    object\n",
      " 2   text       400 non-null    object\n",
      "dtypes: int64(1), object(2)\n",
      "memory usage: 12.5+ KB\n"
     ]
    }
   ],
   "source": [
    "data.info()"
   ]
  },
  {
   "cell_type": "code",
   "execution_count": 7,
   "metadata": {},
   "outputs": [],
   "source": [
    "data['sentiment'] = data['sentiment'].replace(['positive', 'negative'], [1, 0])"
   ]
  },
  {
   "cell_type": "code",
   "execution_count": 8,
   "metadata": {},
   "outputs": [
    {
     "name": "stdout",
     "output_type": "stream",
     "text": [
      "Total Jumlah Sentiment dalam Data Komentar Instagram Cyberbullying: 400 data\n",
      "\n",
      "terdiri dari (Sentiment):\n",
      "-- [positive] Sentiment Positive\t: 200 data\n",
      "-- [negative] Sentiment Negative\t: 200 data\n"
     ]
    }
   ],
   "source": [
    "print('Total Jumlah Sentiment dalam Data Komentar Instagram Cyberbullying:', data.shape[0], 'data\\n')\n",
    "print('terdiri dari (Sentiment):')\n",
    "print('-- [positive] Sentiment Positive\\t:', data[data.sentiment == 1].shape[0], 'data')\n",
    "print('-- [negative] Sentiment Negative\\t:', data[data.sentiment == 0].shape[0], 'data')"
   ]
  },
  {
   "cell_type": "markdown",
   "metadata": {},
   "source": [
    "Dari pernyataan diatas, dataset komentar Instagram cyberbullyng memiliki 400 data dengan memiliki 2 sentiment, yaitu sentiment positive dan negative. Sentiment positive dan negative pada dataset tersebut memiliki 200 data."
   ]
  },
  {
   "cell_type": "markdown",
   "metadata": {},
   "source": [
    "## Data Visualization"
   ]
  },
  {
   "cell_type": "code",
   "execution_count": 9,
   "metadata": {},
   "outputs": [
    {
     "data": {
      "image/png": "[encoded data removed]",
      "text/plain": [
       "<Figure size 560x320 with 1 Axes>"
      ]
     },
     "metadata": {},
     "output_type": "display_data"
    }
   ],
   "source": [
    "height = data['sentiment'].value_counts()\n",
    "Sentiments = ('Positive', 'Negative')\n",
    "y_pos = np.arange(len(Sentiments))\n",
    "\n",
    "plt.figure(figsize=(7,4), dpi=80)\n",
    "plt.ylim(0,600)\n",
    "plt.title('Distribusi Banyaknya Sentiment Positive dan Negative')\n",
    "plt.xlabel('Kategori')\n",
    "plt.ylabel('Jumlah')\n",
    "plt.bar(y_pos, height, color=['darksalmon', 'coral'])\n",
    "plt.xticks(y_pos, Sentiments)\n",
    "plt.show()"
   ]
  },
  {
   "cell_type": "code",
   "execution_count": 10,
   "metadata": {},
   "outputs": [
    {
     "data": {
      "image/png": "[encoded data removed]",
      "text/plain": [
       "<Figure size 1500x600 with 1 Axes>"
      ]
     },
     "metadata": {},
     "output_type": "display_data"
    }
   ],
   "source": [
    "height = data['sentiment']\n",
    "\n",
    "for i in height:\n",
    "    plt.figure(figsize=(15,6))\n",
    "    data['sentiment'].value_counts().plot(kind='pie',autopct='%1.1f%%')\n",
    "    plt.title('Banyaknya Sentiment Positive dan Negative')\n",
    "    plt.show()\n",
    "    break"
   ]
  },
  {
   "cell_type": "markdown",
   "metadata": {},
   "source": [
    "Bar plot dan pie plot diatas merupakan visualisasi data, dapat terlihat dengan jelas kedua sentiment memiliki jumlah/distribusi yang sama. Dengan angka '1' pada pie plot tersebut merupakan sentiment positive dan angka '0' merupakan sentiment negative."
   ]
  },
  {
   "cell_type": "markdown",
   "metadata": {},
   "source": [
    "## Data Preprocessing"
   ]
  },
  {
   "cell_type": "markdown",
   "metadata": {},
   "source": [
    "### Case Folding"
   ]
  },
  {
   "cell_type": "code",
   "execution_count": 11,
   "metadata": {},
   "outputs": [],
   "source": [
    "def case_folding(text):\n",
    "    # Mengubah teks menjadi lower case\n",
    "    text = text.lower()   \n",
    "    # Menghapus URL\n",
    "    text = re.sub(r\"https?://\\S+|www\\.\\S+\", \"\",  text)\n",
    "    # Menghapus angka\n",
    "    text = re.sub(r\"[-+]?[0-9]+\", \"\", text)\n",
    "    # Menghapus karakter tanda baca\n",
    "    text = re.sub(r\"[^\\w\\s]\", \"\", text)\n",
    "    # Menghapus whitespace leading dan trailing\n",
    "    text = text.strip()\n",
    "    # Menghapus hashtag\n",
    "    text = re.sub(r\"#\\S+\", \"\", text)\n",
    "    # Menghapus mention\n",
    "    text = re.sub(r\"@\\S+\", \"\", text)\n",
    "    return text"
   ]
  },
  {
   "cell_type": "markdown",
   "metadata": {},
   "source": [
    "### Normalization"
   ]
  },
  {
   "cell_type": "code",
   "execution_count": 12,
   "metadata": {},
   "outputs": [
    {
     "data": {
      "text/html": [
       "<div>\n",
       "<style scoped>\n",
       "    .dataframe tbody tr th:only-of-type {\n",
       "        vertical-align: middle;\n",
       "    }\n",
       "\n",
       "    .dataframe tbody tr th {\n",
       "        vertical-align: top;\n",
       "    }\n",
       "\n",
       "    .dataframe thead th {\n",
       "        text-align: right;\n",
       "    }\n",
       "</style>\n",
       "<table border=\"1\" class=\"dataframe\">\n",
       "  <thead>\n",
       "    <tr style=\"text-align: right;\">\n",
       "      <th></th>\n",
       "      <th>aamiin</th>\n",
       "      <th>amin</th>\n",
       "    </tr>\n",
       "  </thead>\n",
       "  <tbody>\n",
       "    <tr>\n",
       "      <th>0</th>\n",
       "      <td>adek</td>\n",
       "      <td>adik</td>\n",
       "    </tr>\n",
       "    <tr>\n",
       "      <th>1</th>\n",
       "      <td>adlh</td>\n",
       "      <td>adalah</td>\n",
       "    </tr>\n",
       "    <tr>\n",
       "      <th>2</th>\n",
       "      <td>aer</td>\n",
       "      <td>air</td>\n",
       "    </tr>\n",
       "    <tr>\n",
       "      <th>3</th>\n",
       "      <td>aiskrim</td>\n",
       "      <td>es krim</td>\n",
       "    </tr>\n",
       "    <tr>\n",
       "      <th>4</th>\n",
       "      <td>aj</td>\n",
       "      <td>saja</td>\n",
       "    </tr>\n",
       "  </tbody>\n",
       "</table>\n",
       "</div>"
      ],
      "text/plain": [
       "    aamiin     amin \n",
       "0     adek     adik \n",
       "1     adlh   adalah \n",
       "2      aer      air \n",
       "3  aiskrim  es krim \n",
       "4       aj     saja "
      ]
     },
     "execution_count": 12,
     "metadata": {},
     "output_type": "execute_result"
    }
   ],
   "source": [
    "kamus = pd.read_excel('kamus_singkatan.xlsx')\n",
    "kamus.head()"
   ]
  },
  {
   "cell_type": "code",
   "execution_count": 13,
   "metadata": {},
   "outputs": [
    {
     "data": {
      "text/html": [
       "<div>\n",
       "<style scoped>\n",
       "    .dataframe tbody tr th:only-of-type {\n",
       "        vertical-align: middle;\n",
       "    }\n",
       "\n",
       "    .dataframe tbody tr th {\n",
       "        vertical-align: top;\n",
       "    }\n",
       "\n",
       "    .dataframe thead th {\n",
       "        text-align: right;\n",
       "    }\n",
       "</style>\n",
       "<table border=\"1\" class=\"dataframe\">\n",
       "  <thead>\n",
       "    <tr style=\"text-align: right;\">\n",
       "      <th></th>\n",
       "      <th>singkatan</th>\n",
       "      <th>hasil</th>\n",
       "    </tr>\n",
       "  </thead>\n",
       "  <tbody>\n",
       "    <tr>\n",
       "      <th>0</th>\n",
       "      <td>adek</td>\n",
       "      <td>adik</td>\n",
       "    </tr>\n",
       "    <tr>\n",
       "      <th>1</th>\n",
       "      <td>adlh</td>\n",
       "      <td>adalah</td>\n",
       "    </tr>\n",
       "    <tr>\n",
       "      <th>2</th>\n",
       "      <td>aer</td>\n",
       "      <td>air</td>\n",
       "    </tr>\n",
       "    <tr>\n",
       "      <th>3</th>\n",
       "      <td>aiskrim</td>\n",
       "      <td>es krim</td>\n",
       "    </tr>\n",
       "    <tr>\n",
       "      <th>4</th>\n",
       "      <td>aj</td>\n",
       "      <td>saja</td>\n",
       "    </tr>\n",
       "  </tbody>\n",
       "</table>\n",
       "</div>"
      ],
      "text/plain": [
       "  singkatan     hasil\n",
       "0      adek     adik \n",
       "1      adlh   adalah \n",
       "2       aer      air \n",
       "3   aiskrim  es krim \n",
       "4        aj     saja "
      ]
     },
     "execution_count": 13,
     "metadata": {},
     "output_type": "execute_result"
    }
   ],
   "source": [
    "kamus.columns =['singkatan', 'hasil']\n",
    "kamus.head()"
   ]
  },
  {
   "cell_type": "code",
   "execution_count": 37,
   "metadata": {},
   "outputs": [],
   "source": [
    "def text_normalize(text):\n",
    "    text = ' '.join([kamus[kamus['singkatan'] == word]['hasil'].values[0] if (kamus['singkatan'] == word).any() \n",
    "                     else word for word in text.split()])\n",
    "    text = str.lower(text)\n",
    "    return text"
   ]
  },
  {
   "cell_type": "markdown",
   "metadata": {},
   "source": [
    "### Filtering"
   ]
  },
  {
   "cell_type": "code",
   "execution_count": 15,
   "metadata": {},
   "outputs": [
    {
     "data": {
      "text/plain": [
       "758"
      ]
     },
     "execution_count": 15,
     "metadata": {},
     "output_type": "execute_result"
    }
   ],
   "source": [
    "stopwords_cyberbullying = stopwords.words('indonesian')\n",
    "len(stopwords_cyberbullying)"
   ]
  },
  {
   "cell_type": "code",
   "execution_count": 17,
   "metadata": {},
   "outputs": [
    {
     "data": {
      "text/plain": [
       "['ada', 'adalah', 'adanya', 'adapun', 'agak']"
      ]
     },
     "execution_count": 17,
     "metadata": {},
     "output_type": "execute_result"
    }
   ],
   "source": [
    "stopwords_cyberbullying[:5]"
   ]
  },
  {
   "cell_type": "code",
   "execution_count": 18,
   "metadata": {},
   "outputs": [],
   "source": [
    "more_stopword = ['username']\n",
    "stopwords_cyberbullying = stopwords_cyberbullying + more_stopword\n",
    "\n",
    "def remove_stopwords(text):\n",
    "    clean_words = []\n",
    "    text = text.split()\n",
    "    for word in text:\n",
    "        if word not in stopwords_cyberbullying:\n",
    "            clean_words.append(word)\n",
    "    return \" \".join(clean_words)"
   ]
  },
  {
   "cell_type": "markdown",
   "metadata": {},
   "source": [
    "### Stemming"
   ]
  },
  {
   "cell_type": "code",
   "execution_count": 19,
   "metadata": {},
   "outputs": [],
   "source": [
    "from Sastrawi.Stemmer.StemmerFactory import StemmerFactory\n",
    "\n",
    "factory = StemmerFactory()\n",
    "stemmer = factory.create_stemmer()\n",
    "\n",
    "# Buat fungsi untuk langkah stemming bahasa Indonesia\n",
    "def stemming(text):\n",
    "    text = stemmer.stem(text)\n",
    "    return text"
   ]
  },
  {
   "cell_type": "markdown",
   "metadata": {},
   "source": [
    "### Text Preprocessing Pipeline"
   ]
  },
  {
   "cell_type": "code",
   "execution_count": 20,
   "metadata": {},
   "outputs": [],
   "source": [
    "def text_preprocessing(text):\n",
    "    text = case_folding(text)\n",
    "    text = text_normalize(text)\n",
    "    text = remove_stopwords(text)\n",
    "    text = stemming(text)\n",
    "    return text"
   ]
  },
  {
   "cell_type": "code",
   "execution_count": 21,
   "metadata": {},
   "outputs": [],
   "source": [
    "data['text'] = data['text'].apply(text_preprocessing)"
   ]
  },
  {
   "cell_type": "markdown",
   "metadata": {},
   "source": [
    "## Feature Extraction"
   ]
  },
  {
   "cell_type": "code",
   "execution_count": 22,
   "metadata": {},
   "outputs": [],
   "source": [
    "from sklearn.feature_extraction.text import TfidfVectorizer\n",
    "\n",
    "vect =TfidfVectorizer(max_features=1000)\n",
    "vect_text=vect.fit_transform(data['text'])"
   ]
  },
  {
   "cell_type": "code",
   "execution_count": 23,
   "metadata": {},
   "outputs": [
    {
     "data": {
      "text/plain": [
       "{'tolol': 953,\n",
       " 'hubung': 338,\n",
       " 'nya': 601,\n",
       " 'pakai': 666,\n",
       " 'hijab': 333,\n",
       " 'bilang': 184,\n",
       " 'panas': 668,\n",
       " 'otak': 656,\n",
       " 'sih': 892,\n",
       " 'ya': 990,\n",
       " 'nulis': 594,\n",
       " 'komentar': 433,\n",
       " 'bain': 91,\n",
       " 'balikanhadewwntar': 103,\n",
       " 'tinggal': 949,\n",
       " 'nyalahin': 609,\n",
       " 'tuh': 960,\n",
       " 'oon': 640,\n",
       " 'kemarin': 414,\n",
       " 'mbak': 511,\n",
       " 'kya': 445,\n",
       " 'abege': 3,\n",
       " 'ato': 47,\n",
       " 'cari': 210,\n",
       " 'sensasi': 883,\n",
       " 'biar': 179,\n",
       " 'top': 957,\n",
       " 'ertong': 275,\n",
       " 'kualitas': 438,\n",
       " 'att': 48,\n",
       " 'anak': 31,\n",
       " 'kasihan': 403,\n",
       " 'psikis': 756,\n",
       " 'depan': 243,\n",
       " 'orang': 647,\n",
       " 'anda': 33,\n",
       " 'benci': 159,\n",
       " 'gimana': 297,\n",
       " 'asa': 42,\n",
       " 'nama': 551,\n",
       " 'manusia': 496,\n",
       " 'suka': 913,\n",
       " 'haters': 325,\n",
       " 'permpuan': 690,\n",
       " 'utama': 977,\n",
       " 'purutky': 765,\n",
       " 'artis': 41,\n",
       " 'ja': 361,\n",
       " 'tinggalin': 950,\n",
       " 'laki': 451,\n",
       " 'mikir': 524,\n",
       " 'kali': 395,\n",
       " 'perempuan': 687,\n",
       " 'urus': 975,\n",
       " 'becus': 137,\n",
       " 'mending': 518,\n",
       " 'didik': 250,\n",
       " 'biasa': 180,\n",
       " 'balajaer': 99,\n",
       " 'nyampah': 613,\n",
       " 'instagram': 352,\n",
       " 'bikin': 183,\n",
       " 'caption': 209,\n",
       " 'heboh': 328,\n",
       " 'asik': 44,\n",
       " 'lagu': 448,\n",
       " 'loh': 471,\n",
       " 'berjudulketika': 167,\n",
       " 'bersabdademi': 172,\n",
       " 'koin': 431,\n",
       " 'laknat': 453,\n",
       " 'nyabalajaer': 603,\n",
       " 'iya': 360,\n",
       " 'goda': 303,\n",
       " 'rt': 816,\n",
       " 'laku': 454,\n",
       " 'kek': 409,\n",
       " 'segalanyalagi': 875,\n",
       " 'bela': 148,\n",
       " 'sakit': 833,\n",
       " 'jiwa': 381,\n",
       " 'rakyat': 782,\n",
       " 'indonesia': 351,\n",
       " 'bodoh': 189,\n",
       " 'beda': 138,\n",
       " 'buruk': 203,\n",
       " 'prilaku': 743,\n",
       " 'santun': 856,\n",
       " 'pilih': 697,\n",
       " 'panutan': 673,\n",
       " 'murah': 543,\n",
       " 'kelas': 411,\n",
       " 'ber': 162,\n",
       " 'etika': 276,\n",
       " 'ayu': 63,\n",
       " 'janda': 368,\n",
       " 'suami': 910,\n",
       " 'nikah': 571,\n",
       " 'lagi': 447,\n",
       " 'suara': 911,\n",
       " 'hancur': 319,\n",
       " 'merdu': 521,\n",
       " 'syarat': 925,\n",
       " 'sah': 826,\n",
       " 'agama': 7,\n",
       " 'islam': 357,\n",
       " 'calon': 206,\n",
       " 'pengantin': 682,\n",
       " 'pria': 740,\n",
       " 'wanita': 983,\n",
       " 'saksi': 834,\n",
       " 'mas': 498,\n",
       " 'makeup': 484,\n",
       " 'penuh': 683,\n",
       " 'emak': 266,\n",
       " 'cewek': 216,\n",
       " 'nih': 568,\n",
       " 'ngerebut': 564,\n",
       " 'pacar': 661,\n",
       " 'abang': 2,\n",
       " 'jelek': 373,\n",
       " 'eh': 263,\n",
       " 'situ': 896,\n",
       " 'jaman': 367,\n",
       " 'banyak': 130,\n",
       " 'micin': 523,\n",
       " 'hina': 334,\n",
       " 'pelihara': 681,\n",
       " 'jijik': 378,\n",
       " 'liat': 467,\n",
       " 'deh': 240,\n",
       " 'cium': 223,\n",
       " 'citra': 222,\n",
       " 'sok': 900,\n",
       " 'alim': 21,\n",
       " 'suci': 912,\n",
       " 'malu': 486,\n",
       " 'teman': 937,\n",
       " 'bibir': 181,\n",
       " 'coba': 225,\n",
       " 'bayangin': 135,\n",
       " 'sanggup': 851,\n",
       " 'ma': 475,\n",
       " 'dasar': 238,\n",
       " 'lho': 466,\n",
       " 'yah': 995,\n",
       " 'anjing': 36,\n",
       " 'mana': 490,\n",
       " 'kliatan': 428,\n",
       " 'musuh': 545,\n",
       " 'jaga': 364,\n",
       " 'ucap': 968,\n",
       " 'lahh': 449,\n",
       " 'munafik': 542,\n",
       " 'zaman': 999,\n",
       " 'lebih': 463,\n",
       " 'paham': 663,\n",
       " 'moga': 531,\n",
       " 'tuhan': 961,\n",
       " 'yaa': 991,\n",
       " 'ampun': 29,\n",
       " 'upil': 974,\n",
       " 'cermin': 215,\n",
       " 'prihatin': 742,\n",
       " 'mati': 505,\n",
       " 'dunia': 259,\n",
       " 'jual': 385,\n",
       " 'goyang': 307,\n",
       " 'taik': 927,\n",
       " 'ih': 347,\n",
       " 'uang': 967,\n",
       " 'anjir': 37,\n",
       " 'tonton': 956,\n",
       " 'mutu': 546,\n",
       " 'baju': 92,\n",
       " 'ny': 600,\n",
       " 'dada': 234,\n",
       " 'sbrpa': 865,\n",
       " 'moral': 534,\n",
       " 'muda': 536,\n",
       " 'nonton': 590,\n",
       " 'bawa': 134,\n",
       " 'nafsu': 548,\n",
       " 'pnyanyi': 714,\n",
       " 'dangdut': 236,\n",
       " 'nonjolin': 589,\n",
       " 'najis': 550,\n",
       " 'kaya': 404,\n",
       " 'gin': 299,\n",
       " 'musnah': 544,\n",
       " 'muka': 538,\n",
       " 'akhlak': 14,\n",
       " 'bangeg': 111,\n",
       " 'kerja': 422,\n",
       " 'lonte': 472,\n",
       " 'ribut': 807,\n",
       " 'sampah': 846,\n",
       " 'banci': 104,\n",
       " 'cucu': 231,\n",
       " 'operasi': 641,\n",
       " 'asli': 45,\n",
       " 'cantik': 207,\n",
       " 'bagus': 81,\n",
       " 'hahahahahaha': 314,\n",
       " 'jahat': 365,\n",
       " 'oplas': 642,\n",
       " 'permak': 689,\n",
       " 'pokok': 716,\n",
       " 'dek': 241,\n",
       " 'cowok': 230,\n",
       " 'bencong': 160,\n",
       " 'wkwkwk': 986,\n",
       " 'rombengmenjijikangay': 814,\n",
       " 'gila': 296,\n",
       " 'tenar': 939,\n",
       " 'rela': 801,\n",
       " 'beken': 147,\n",
       " 'astagfirullah': 46,\n",
       " 'mulut': 541,\n",
       " 'ky': 444,\n",
       " 'sampahga': 847,\n",
       " 'sekolah': 877,\n",
       " 'seduniakarena': 874,\n",
       " 'perilaku': 688,\n",
       " 'sederhana': 872,\n",
       " 'pamer': 667,\n",
       " 'akhirat': 13,\n",
       " 'buang': 195,\n",
       " 'bicara': 182,\n",
       " 'belepotan': 154,\n",
       " 'gaya': 292,\n",
       " 'makan': 483,\n",
       " 'berfikir': 164,\n",
       " 'positifdari': 727,\n",
       " 'bermoraldasar': 169,\n",
       " 'kbanyakan': 406,\n",
       " 'ogah': 631,\n",
       " 'ketemu': 424,\n",
       " 'pimpin': 698,\n",
       " 'mentang': 520,\n",
       " 'president': 737,\n",
       " 'marah': 497,\n",
       " 'hukum': 340,\n",
       " 'lihat': 468,\n",
       " 'si': 891,\n",
       " 'mudah': 537,\n",
       " 'cepat': 212,\n",
       " 'tidur': 946,\n",
       " 'hati': 326,\n",
       " 'mah': 477,\n",
       " 'nurani': 599,\n",
       " 'pajak': 665,\n",
       " 'hormat': 336,\n",
       " 'babi': 71,\n",
       " 'bangsat': 125,\n",
       " 'sumpel': 917,\n",
       " 'timah': 947,\n",
       " 'congor': 228,\n",
       " 'pesek': 692,\n",
       " 'rupa': 820,\n",
       " 'putuslumayan': 772,\n",
       " 'ratu': 790,\n",
       " 'pelakor': 679,\n",
       " 'raya': 792,\n",
       " 'tolong': 954,\n",
       " 'mahhhh': 478,\n",
       " 'temu': 938,\n",
       " 'buah': 194,\n",
       " 'ranum': 787,\n",
       " 'busuk': 204,\n",
       " 'ah': 10,\n",
       " 'manda': 491,\n",
       " 'gatal': 290,\n",
       " 'langsung': 457,\n",
       " 'begok': 142,\n",
       " 'kegatelan': 408,\n",
       " 'tante': 932,\n",
       " 'umur': 970,\n",
       " 'jujur': 387,\n",
       " 'nagita': 549,\n",
       " 'emas': 268,\n",
       " 'alah': 16,\n",
       " 'bejat': 144,\n",
       " 'istri': 358,\n",
       " 'surga': 920,\n",
       " 'poligami': 719,\n",
       " 'masuk': 500,\n",
       " 'luar': 473,\n",
       " 'azab': 69,\n",
       " 'hidup': 331,\n",
       " 'selamat': 878,\n",
       " 'alas': 18,\n",
       " 'poligam': 718,\n",
       " 'pikir': 696,\n",
       " 'pintar': 699,\n",
       " 'allah': 22,\n",
       " 'setia': 888,\n",
       " 'tutup': 965,\n",
       " 'pintu': 700,\n",
       " 'rejekimu': 799,\n",
       " 'korban': 435,\n",
       " 'keluarga': 413,\n",
       " 'gagal': 287,\n",
       " 'rumah': 819,\n",
       " 'tangga': 929,\n",
       " 'cocok': 226,\n",
       " 'nilai': 576,\n",
       " 'salahinnya': 836,\n",
       " 'omong': 636,\n",
       " 'status': 907,\n",
       " 'dewasa': 247,\n",
       " 'eehhh': 262,\n",
       " 'tanteibuomaempo': 933,\n",
       " 'picik': 695,\n",
       " 'manusi': 495,\n",
       " 'larang': 459,\n",
       " 'ngungkapin': 565,\n",
       " 'unek': 971,\n",
       " 'stupid': 909,\n",
       " 'human': 341,\n",
       " 'heran': 330,\n",
       " 'ngatain': 561,\n",
       " 'via': 979,\n",
       " 'baperan': 132,\n",
       " 'wajar': 982,\n",
       " 'dese': 246,\n",
       " 'baper': 131,\n",
       " 'nyadar': 605,\n",
       " 'puja': 760,\n",
       " 'royong': 815,\n",
       " 'komen': 432,\n",
       " 'nyinyir': 624,\n",
       " 'duh': 256,\n",
       " 'nyinyirin': 625,\n",
       " 'parah': 675,\n",
       " 'media': 514,\n",
       " 'sosial': 904,\n",
       " 'hak': 315,\n",
       " 'nyindir': 621,\n",
       " 'netijen': 556,\n",
       " 'goblog': 301,\n",
       " 'masyako': 502,\n",
       " 'ortunya': 655,\n",
       " 'rugi': 818,\n",
       " 'kampung': 396,\n",
       " 'kerudung': 423,\n",
       " 'belajaer': 152,\n",
       " 'hahahaha': 312,\n",
       " 'ampe': 28,\n",
       " 'begitu': 140,\n",
       " 'bego': 141,\n",
       " 'norak': 591,\n",
       " 'ayem': 62,\n",
       " 'mba': 509,\n",
       " 'kasih': 402,\n",
       " 'contoh': 229,\n",
       " 'better': 178,\n",
       " 'la': 446,\n",
       " 'class': 224,\n",
       " 'curhat': 233,\n",
       " 'maju': 481,\n",
       " 'goblok': 302,\n",
       " 'netizen': 557,\n",
       " 'postingan': 729,\n",
       " 'bakajaer': 94,\n",
       " 'piara': 694,\n",
       " 'ko': 430,\n",
       " 'indo': 350,\n",
       " 'prestasi': 738,\n",
       " 'sosmed': 905,\n",
       " 'isi': 356,\n",
       " 'jatuh': 370,\n",
       " 'agnes': 8,\n",
       " 'harga': 321,\n",
       " 'elu': 265,\n",
       " 'kitu': 427,\n",
       " 'nyanyi': 615,\n",
       " 'wkwkwkwkw': 988,\n",
       " 'hahaha': 311,\n",
       " 'berani': 163,\n",
       " 'tulis': 963,\n",
       " 'baca': 74,\n",
       " 'main': 480,\n",
       " 'jawa': 371,\n",
       " 'nunjukin': 597,\n",
       " 'karya': 401,\n",
       " 'fansnya': 279,\n",
       " 'jablay': 362,\n",
       " 'youtube': 998,\n",
       " 'hasil': 324,\n",
       " 'salah': 835,\n",
       " 'satu': 860,\n",
       " 'bayar': 136,\n",
       " 'video': 980,\n",
       " 'generasi': 294,\n",
       " 'apa': 38,\n",
       " 'sangkut': 853,\n",
       " 'pautin': 678,\n",
       " 'kaga': 391,\n",
       " 'oplasada': 643,\n",
       " 'foto': 285,\n",
       " 'dn': 251,\n",
       " 'oplasdioplas': 644,\n",
       " 'oplasnya': 645,\n",
       " 'az': 68,\n",
       " 'and': 32,\n",
       " 'fokus': 284,\n",
       " 'sumpah': 916,\n",
       " 'model': 530,\n",
       " 'banggajd': 119,\n",
       " 'bangganajis': 120,\n",
       " 'nydia': 619,\n",
       " 'nitezerrrewkwkwkngarep': 579,\n",
       " 'rebut': 795,\n",
       " 'kayak': 405,\n",
       " 'jedun': 372,\n",
       " 'hrsnya': 337,\n",
       " 'bakar': 95,\n",
       " 'pabrik': 660,\n",
       " 'modal': 529,\n",
       " 'bangga': 118,\n",
       " 'instastory': 353,\n",
       " 'bin': 186,\n",
       " 'tua': 959,\n",
       " 'prewi': 739,\n",
       " 'bukti': 197,\n",
       " 'bejibun': 145,\n",
       " 'pro': 746,\n",
       " 'emaknya': 267,\n",
       " 'sadar': 825,\n",
       " 'abal': 1,\n",
       " 'enggk': 273,\n",
       " 'layar': 461,\n",
       " 'kacaudh': 389,\n",
       " 'duit': 257,\n",
       " 'kere': 417,\n",
       " 'miskinjadi': 527,\n",
       " 'dukun': 258,\n",
       " 'elmu': 264,\n",
       " 'pelet': 680,\n",
       " 'hehe': 329,\n",
       " 'puasin': 757,\n",
       " 'nyaho': 607,\n",
       " 'karma': 399,\n",
       " 'amit': 26,\n",
       " 'mewah': 522,\n",
       " 'mlh': 528,\n",
       " 'orgkarma': 652,\n",
       " 'idupnya': 346,\n",
       " 'plagiat': 702,\n",
       " 'cipta': 220,\n",
       " 'plagiatwkwkwkwk': 704,\n",
       " 'yaaa': 992,\n",
       " 'cinta': 219,\n",
       " 'kuping': 442,\n",
       " 'yaelah': 994,\n",
       " 'mu': 535,\n",
       " 'sprti': 906,\n",
       " 'ayuting': 66,\n",
       " 'drama': 255,\n",
       " 'japok': 369,\n",
       " 'hitam': 335,\n",
       " 'putih': 768,\n",
       " 'cerita': 214,\n",
       " 'awas': 56,\n",
       " 'pupuk': 762,\n",
       " 'bacot': 76,\n",
       " 'papan': 674,\n",
       " 'belagu': 149,\n",
       " 'populer': 725,\n",
       " 'babiii': 72,\n",
       " 'jijikk': 379,\n",
       " 'ting': 948,\n",
       " 'kurang': 443,\n",
       " 'enak': 271,\n",
       " 'sempurna': 881,\n",
       " 'pantes': 672,\n",
       " 'panggil': 671,\n",
       " 'ceramah': 213,\n",
       " 'aduh': 6,\n",
       " 'bully': 198,\n",
       " 'one': 638,\n",
       " 'nyali': 610,\n",
       " 'produk': 747,\n",
       " 'masak': 499,\n",
       " 'sedap': 871,\n",
       " 'mecin': 513,\n",
       " 'ayuuterlihat': 67,\n",
       " 'habis': 310,\n",
       " 'rusak': 821,\n",
       " 'min': 526,\n",
       " 'govlok': 306,\n",
       " 'prcya': 733,\n",
       " 'sma': 898,\n",
       " 'rafibuktinya': 780,\n",
       " 'rafi': 779,\n",
       " 'gigi': 295,\n",
       " 'baek': 78,\n",
       " 'fikir': 281,\n",
       " 'fans': 278,\n",
       " 'billy': 185,\n",
       " 'alhamdulillah': 20,\n",
       " 'putus': 771,\n",
       " 'buluk': 200,\n",
       " 'tunggu': 964,\n",
       " 'cinlok': 218,\n",
       " 'ngaku': 559,\n",
       " 'ajaaa': 11,\n",
       " 'nyata': 617,\n",
       " 'resiko': 804,\n",
       " 'hahahahaha': 313,\n",
       " 'noh': 585,\n",
       " 'kuin': 440,\n",
       " 'masyarakat': 503,\n",
       " 'begtu': 143,\n",
       " 'sholehah': 890,\n",
       " 'kuat': 439,\n",
       " 'mata': 504,\n",
       " 'kuliah': 441,\n",
       " 'hamil': 317,\n",
       " 'lakik': 452,\n",
       " 'please': 707,\n",
       " 'muljem': 540,\n",
       " 'tega': 936,\n",
       " 'recut': 797,\n",
       " 'sahabat': 827,\n",
       " 'jalan': 366,\n",
       " 'sanksi': 854,\n",
       " 'valakor': 978,\n",
       " 'nol': 586,\n",
       " 'sukses': 915,\n",
       " 'sedih': 873,\n",
       " 'mantan': 493,\n",
       " 'pesawat': 691,\n",
       " 'jet': 376,\n",
       " 'kenal': 415,\n",
       " 'akun': 15,\n",
       " 'bodong': 190,\n",
       " 'diam': 249,\n",
       " 'bahak': 85,\n",
       " 'lucu': 474,\n",
       " 'wkwkwkwk': 987,\n",
       " 'ajar': 12,\n",
       " 'swamik': 922,\n",
       " 'bohong': 191,\n",
       " 'nyungsep': 628,\n",
       " 'rezeki': 806,\n",
       " 'plus': 710,\n",
       " 'ngapain': 560,\n",
       " 'depok': 245,\n",
       " 'bahagia': 84,\n",
       " 'ayuklo': 64,\n",
       " 'prasangka': 732,\n",
       " 'sorry': 903,\n",
       " 'bala': 98,\n",
       " 'percaya': 686,\n",
       " 'ku': 437,\n",
       " 'rusuh': 822,\n",
       " 'jaer': 363,\n",
       " 'enji': 274,\n",
       " 'hart': 322,\n",
       " 'tanggung': 930,\n",
       " 'nongol': 588,\n",
       " 'sampek': 848,\n",
       " 'bini': 187,\n",
       " 'kangen': 398,\n",
       " 'bahas': 87,\n",
       " 'ambil': 23,\n",
       " 'ganteng': 288,\n",
       " 'bau': 133,\n",
       " 'sebenarnye': 869,\n",
       " 'jodoh': 382,\n",
       " 'bekaca': 146,\n",
       " 'oalaahhh': 629,\n",
       " 'tolak': 952,\n",
       " 'cundang': 232,\n",
       " 'prempuan': 734,\n",
       " 'jilbab': 380,\n",
       " 'songong': 902,\n",
       " 'balas': 101,\n",
       " 'wkwk': 985,\n",
       " 'oh': 632,\n",
       " 'gimik': 298,\n",
       " 'raffi': 778,\n",
       " 'serta': 885,\n",
       " 'hujad': 339,\n",
       " 'nydi': 618,\n",
       " 'publik': 759,\n",
       " 'album': 19,\n",
       " 'single': 893,\n",
       " 'hal': 316,\n",
       " 'rating': 789,\n",
       " 'popularitas': 724,\n",
       " 'susah': 921,\n",
       " 'maling': 485,\n",
       " 'ngaca': 558,\n",
       " 'abis': 4,\n",
       " 'joget': 383,\n",
       " 'maluin': 487,\n",
       " 'mak': 482,\n",
       " 'texas': 944,\n",
       " 'py': 774,\n",
       " 'bencana': 158,\n",
       " 'nuntut': 598,\n",
       " 'nikmat': 574,\n",
       " 'kador': 390,\n",
       " 'tuju': 962,\n",
       " 'nyaman': 612,\n",
       " 'keras': 416,\n",
       " 'realita': 794,\n",
       " 'terima': 941,\n",
       " 'numpang': 595,\n",
       " 'rapi': 788,\n",
       " 'gede': 293,\n",
       " 'nimbrung': 577,\n",
       " 'belakang': 153,\n",
       " 'mulan': 539,\n",
       " 'sombong': 901,\n",
       " 'bunda': 201,\n",
       " 'sungguh': 918,\n",
       " 'swt': 924,\n",
       " 'oranglain': 649,\n",
       " 'wlina': 989,\n",
       " 'sist': 895,\n",
       " 'sirik': 894,\n",
       " 'nyonya': 626,\n",
       " 'cireng': 221,\n",
       " 'nyonyiah': 627,\n",
       " 'jongos': 384,\n",
       " 'tetehlu': 943,\n",
       " 'pas': 676,\n",
       " 'brojol': 192,\n",
       " 'sapeak': 857,\n",
       " 'bunmai': 202,\n",
       " 'rampas': 786,\n",
       " 'maia': 479,\n",
       " 'prtahanin': 755,\n",
       " 'comment': 227,\n",
       " 'guna': 308,\n",
       " 'medsos': 515,\n",
       " 'sehat': 876,\n",
       " 'sayang': 862,\n",
       " 'ibadah': 342,\n",
       " 'dandan': 235,\n",
       " 'arti': 40,\n",
       " 'besok': 175,\n",
       " 'sesuai': 886,\n",
       " 'salmon': 839,\n",
       " 'maaf': 476,\n",
       " 'attitude': 49,\n",
       " 'plagiatdan': 703,\n",
       " 'tau': 935,\n",
       " 'public': 758,\n",
       " 'risih': 809,\n",
       " 'bangt': 126,\n",
       " 'bahasami': 89,\n",
       " 'repot': 803,\n",
       " 'live': 470,\n",
       " 'pribadi': 741,\n",
       " 'kluarga': 429,\n",
       " 'niy': 581,\n",
       " 'attutude': 50,\n",
       " 'bagi': 79,\n",
       " 'oranginsecure': 648,\n",
       " 'bangetkudu': 113,\n",
       " 'berita': 166,\n",
       " 'kellen': 412,\n",
       " 'amora': 27,\n",
       " 'saring': 859,\n",
       " 'posting': 728,\n",
       " 'kd': 407,\n",
       " 'bening': 161,\n",
       " 'ngefans': 562,\n",
       " 'kagum': 392,\n",
       " 'untung': 972,\n",
       " 'ganti': 289,\n",
       " 'nyagemezzzzzzz': 606,\n",
       " 'up': 973,\n",
       " 'or': 646,\n",
       " 'aneh': 34,\n",
       " 'ayam': 60,\n",
       " 'wajah': 981,\n",
       " 'bulu': 199,\n",
       " 'dengar': 242,\n",
       " 'jengkel': 375,\n",
       " 'orgibarat': 651,\n",
       " 'roboh': 811,\n",
       " 'bangun': 127,\n",
       " 'nyabayangin': 604,\n",
       " 'dosa': 254,\n",
       " 'rubah': 817,\n",
       " 'pandang': 670,\n",
       " 'setan': 887,\n",
       " 'embat': 269,\n",
       " 'pahlawan': 664,\n",
       " 'nimpuk': 578,\n",
       " 'tertawa': 942,\n",
       " 'nyempetin': 620,\n",
       " 'nuli': 593,\n",
       " 'aura': 52,\n",
       " 'positif': 726,\n",
       " 'nyai': 608,\n",
       " 'acara': 5,\n",
       " 'rokok': 812,\n",
       " 'bangetttt': 116,\n",
       " 'sabar': 824,\n",
       " 'insya': 354,\n",
       " 'tata': 934,\n",
       " 'kisah': 426,\n",
       " 'syukur': 926,\n",
       " 'baik': 90,\n",
       " 'awet': 58,\n",
       " 'pasang': 677,\n",
       " 'larut': 460,\n",
       " 'happy': 320,\n",
       " 'senyum': 884,\n",
       " 'puruk': 764,\n",
       " 'pepatah': 684,\n",
       " 'trllu': 958,\n",
       " 'sakinnah': 832,\n",
       " 'mawaddah': 507,\n",
       " 'pisah': 701,\n",
       " 'maut': 506,\n",
       " 'amiin': 24,\n",
       " 'jemima': 374,\n",
       " 'celine': 211,\n",
       " 'haru': 323,\n",
       " 'rawat': 791,\n",
       " 'stefan': 908,\n",
       " 'baby': 73,\n",
       " 'bersyukurbonus': 174,\n",
       " 'pacran': 662,\n",
       " 'raisa': 781,\n",
       " 'super': 919,\n",
       " 'hamish': 318,\n",
       " 'banding': 106,\n",
       " 'on': 637,\n",
       " 'so': 899,\n",
       " 'sakinah': 830,\n",
       " 'warahmah': 984,\n",
       " 'tonjol': 955,\n",
       " 'buat': 196,\n",
       " 'sukak': 914,\n",
       " 'yaampun': 993,\n",
       " 'good': 305,\n",
       " 'bakti': 97,\n",
       " 'salut': 842,\n",
       " 'semangat': 879,\n",
       " 'pliis': 708,\n",
       " 'salam': 837,\n",
       " 'mbk': 512,\n",
       " 'senang': 882,\n",
       " 'sbagai': 864,\n",
       " 'nnt': 584,\n",
       " 'keren': 420,\n",
       " 'pancar': 669,\n",
       " 'presiden': 736,\n",
       " 'proud': 754,\n",
       " 'of': 630,\n",
       " 'you': 997,\n",
       " 'bless': 188,\n",
       " 'kereenn': 419,\n",
       " 'kak': 393,\n",
       " 'pntas': 713,\n",
       " 'nik': 570,\n",
       " 'hebat': 327,\n",
       " 'nikmir': 575,\n",
       " 'nikita': 573,\n",
       " 'real': 793,\n",
       " 'alami': 17,\n",
       " 'bak': 93,\n",
       " 'gagah': 286,\n",
       " 'lancar': 455,\n",
       " 'lcb': 462,\n",
       " 'cantikk': 208,\n",
       " 'duren': 260,\n",
       " 'neng': 555,\n",
       " 'sakina': 829,\n",
       " 'amin': 25,\n",
       " 'milik': 525,\n",
       " 'fisik': 283,\n",
       " 'idam': 345,\n",
       " 'bangetsemoga': 114,\n",
       " 'samawa': 844,\n",
       " 'agus': 9,\n",
       " 'berpakain': 170,\n",
       " 'lembut': 465,\n",
       " 'lindung': 469,\n",
       " 'plataran': 706,\n",
       " 'darmawangsa': 237,\n",
       " 'datang': 239,\n",
       " 'rabbi': 776,\n",
       " 'sebar': 868,\n",
       " 'awareness': 55,\n",
       " 'program': 749,\n",
       " 'bangkit': 122,\n",
       " 'terbang': 940,\n",
       " 'eyang': 277,\n",
       " 'habibie': 309,\n",
       " 'bangsa': 124,\n",
       " 'bersmaa': 173,\n",
       " 'bu': 193,\n",
       " 'ani': 35,\n",
       " 'sholeh': 889,\n",
       " 'sby': 866,\n",
       " 'tani': 931,\n",
       " 'beliau': 155,\n",
       " 'bahasa': 88,\n",
       " 'betapa': 177,\n",
       " 'banda': 105,\n",
       " 'memo': 517,\n",
       " 'pepo': 685,\n",
       " 'hihi': 332,\n",
       " 'bangetsss': 115,\n",
       " 'tajir': 928,\n",
       " 'an': 30,\n",
       " 'putihkl': 769,\n",
       " 'puragw': 763,\n",
       " 'orangtua': 650,\n",
       " 'onoh': 639,\n",
       " 'balance': 100,\n",
       " 'go': 300,\n",
       " 'gaul': 291,\n",
       " 'bahan': 86,\n",
       " 'nmx': 583,\n",
       " 'ngeh': 563,\n",
       " 'it': 359,\n",
       " 'bang': 108,\n",
       " 'karo': 400,\n",
       " 'masyaallah': 501,\n",
       " 'bangetttttttt': 117,\n",
       " 'audisi': 51,\n",
       " 'bakat': 96,\n",
       " 'salur': 841,\n",
       " 'nasib': 552,\n",
       " 'saking': 831,\n",
       " 'bagusss': 82,\n",
       " 'natural': 553,\n",
       " 'kerennnn': 421,\n",
       " 'polos': 722,\n",
       " 'novilda': 592,\n",
       " 'beginijangan': 139,\n",
       " 'rambut': 785,\n",
       " 'pulang': 761,\n",
       " 'sampet': 849,\n",
       " 'niw': 580,\n",
       " 'ikut': 348,\n",
       " 'nomer': 587,\n",
       " 'kereeen': 418,\n",
       " 'nihenak': 569,\n",
       " 'putar': 766,\n",
       " 'bangeeet': 110,\n",
       " 'yes': 996,\n",
       " 'seandaix': 867,\n",
       " 'bagussss': 83,\n",
       " 'santai': 855,\n",
       " 'polosssskerenga': 723,\n",
       " 'neko': 554,\n",
       " 'bando': 107,\n",
       " 'mantap': 494,\n",
       " 'poles': 717,\n",
       " 'cakap': 205,\n",
       " 'okkeehh': 634,\n",
       " 'badaaiik': 77,\n",
       " 'poll': 721,\n",
       " 'aw': 54,\n",
       " 'banget': 112,\n",
       " 'rini': 808,\n",
       " 'swett': 923,\n",
       " 'langgeng': 456,\n",
       " 'kandung': 397,\n",
       " 'proses': 750,\n",
       " 'salin': 838,\n",
       " 'sandra': 850,\n",
       " 'prosesi': 751,\n",
       " 'dewi': 248,\n",
       " 'meni': 519,\n",
       " 'prepare': 735,\n",
       " 'lahir': 450,\n",
       " 'pnah': 711,\n",
       " 'puyeng': 773,\n",
       " 'salutt': 843,\n",
       " 'niaa': 567,\n",
       " 'nia': 566,\n",
       " 'ariel': 39,\n",
       " 'kharisma': 425,\n",
       " 'lelaki': 464,\n",
       " 'mama': 488,\n",
       " 'sa': 823,\n",
       " 'bangat': 109,\n",
       " 'salpok': 840,\n",
       " 'sayakalo': 861,\n",
       " 'kritik': 436,\n",
       " 'protes': 752,\n",
       " 'usaha': 976,\n",
       " 'protesklau': 753,\n",
       " 'internasional': 355,\n",
       " 'enakk': 272,\n",
       " 'nyaa': 602,\n",
       " 'ka': 388,\n",
       " 'nyamaann': 611,\n",
       " 'mami': 489,\n",
       " 'depe': 244,\n",
       " 'rit': 810,\n",
       " 'belah': 150,\n",
       " 'mb': 508,\n",
       " 'ibu': 344,\n",
       " 'saiful': 828,\n",
       " 'bella': 156,\n",
       " 'romantisme': 813,\n",
       " 'umbar': 969,\n",
       " 'cewenya': 217,\n",
       " 'the': 945,\n",
       " 'power': 730,\n",
       " 'emran': 270,\n",
       " 'nyanyang': 614,\n",
       " 'manis': 492,\n",
       " 'jevin': 377,\n",
       " 'radhini': 777,\n",
       " 'remix': 802,\n",
       " 'nunjuk': 596,\n",
       " 'backstage': 75,\n",
       " 'final': 282,\n",
       " 'mei': 516,\n",
       " 'feb': 280,\n",
       " 'in': 349,\n",
       " 'plan': 705,\n",
       " 'our': 658,\n",
       " 'berfikiran': 165,\n",
       " 'sangka': 852,\n",
       " 'mbaa': 510,\n",
       " 'sebutin': 870,\n",
       " 'ayangnya': 61,\n",
       " 'ibel': 343,\n",
       " 'pho': 693,\n",
       " 'kakak': 394,\n",
       " 'ramah': 783,\n",
       " 'nikahin': 572,\n",
       " 'bankkangen': 128,\n",
       " 'oma': 635,\n",
       " 'doa': 252,\n",
       " 'aamiin': 0,\n",
       " 'momong': 533,\n",
       " 'momo': 532,\n",
       " 'putri': 770,\n",
       " 'princess': 745,\n",
       " 'prince': 744,\n",
       " 'dokter': 253,\n",
       " 'best': 176,\n",
       " 'orgnya': 653,\n",
       " 'recomend': 796,\n",
       " 'ashanti': 43,\n",
       " 'belainsupport': 151,\n",
       " 'ornglain': 654,\n",
       " 'aurel': 53,\n",
       " 'sambung': 845,\n",
       " 'plingbdpan': 709,\n",
       " 'azriel': 70,\n",
       " 'pra': 731,\n",
       " 'nyapadahal': 616,\n",
       " 'tv': 966,\n",
       " 'tiri': 951,\n",
       " 'pa': 659,\n",
       " 'dya': 261,\n",
       " 'nyinyiir': 623,\n",
       " 'pnampilan': 712,\n",
       " 'nyinyiiir': 622,\n",
       " 'awat': 57,\n",
       " 'putib': 767,\n",
       " 'ra': 775,\n",
       " 'sayangkm': 863,\n",
       " 'banggeett': 121,\n",
       " 'ayah': 59,\n",
       " 'sj': 897,\n",
       " 'balik': 102,\n",
       " 'berrti': 171,\n",
       " 'polisi': 720,\n",
       " 'belok': 157,\n",
       " 'rambu': 784,\n",
       " 'baguass': 80,\n",
       " 'kelak': 410,\n",
       " 'sari': 858,\n",
       " 'ayuneemana': 65,\n",
       " 'pohon': 715,\n",
       " 'berlimpaah': 168,\n",
       " 'rejekinya': 800,\n",
       " 'nafkah': 547,\n",
       " 'ojol': 633,\n",
       " 'otomatis': 657,\n",
       " 'komunikasi': 434,\n",
       " 'rejeki': 798,\n",
       " 'bangku': 123,\n",
       " 'gojek': 304,\n",
       " 'nlp': 582,\n",
       " 'juang': 386,\n",
       " 'respect': 805,\n",
       " 'profesi': 748,\n",
       " 'lapang': 458,\n",
       " 'bantu': 129,\n",
       " 'sembak': 880}"
      ]
     },
     "execution_count": 23,
     "metadata": {},
     "output_type": "execute_result"
    }
   ],
   "source": [
    "vect.vocabulary_"
   ]
  },
  {
   "cell_type": "code",
   "execution_count": 24,
   "metadata": {},
   "outputs": [
    {
     "data": {
      "text/html": [
       "<div>\n",
       "<style scoped>\n",
       "    .dataframe tbody tr th:only-of-type {\n",
       "        vertical-align: middle;\n",
       "    }\n",
       "\n",
       "    .dataframe tbody tr th {\n",
       "        vertical-align: top;\n",
       "    }\n",
       "\n",
       "    .dataframe thead th {\n",
       "        text-align: right;\n",
       "    }\n",
       "</style>\n",
       "<table border=\"1\" class=\"dataframe\">\n",
       "  <thead>\n",
       "    <tr style=\"text-align: right;\">\n",
       "      <th></th>\n",
       "      <th>aamiin</th>\n",
       "      <th>abal</th>\n",
       "      <th>abang</th>\n",
       "      <th>abege</th>\n",
       "      <th>abis</th>\n",
       "      <th>acara</th>\n",
       "      <th>aduh</th>\n",
       "      <th>agama</th>\n",
       "      <th>agnes</th>\n",
       "      <th>agus</th>\n",
       "      <th>...</th>\n",
       "      <th>ya</th>\n",
       "      <th>yaa</th>\n",
       "      <th>yaaa</th>\n",
       "      <th>yaampun</th>\n",
       "      <th>yaelah</th>\n",
       "      <th>yah</th>\n",
       "      <th>yes</th>\n",
       "      <th>you</th>\n",
       "      <th>youtube</th>\n",
       "      <th>zaman</th>\n",
       "    </tr>\n",
       "  </thead>\n",
       "  <tbody>\n",
       "    <tr>\n",
       "      <th>0</th>\n",
       "      <td>0.0</td>\n",
       "      <td>0.0</td>\n",
       "      <td>0.0</td>\n",
       "      <td>0.000000</td>\n",
       "      <td>0.0</td>\n",
       "      <td>0.0</td>\n",
       "      <td>0.0</td>\n",
       "      <td>0.0</td>\n",
       "      <td>0.0</td>\n",
       "      <td>0.0</td>\n",
       "      <td>...</td>\n",
       "      <td>0.125127</td>\n",
       "      <td>0.0</td>\n",
       "      <td>0.0</td>\n",
       "      <td>0.0</td>\n",
       "      <td>0.0</td>\n",
       "      <td>0.0</td>\n",
       "      <td>0.0</td>\n",
       "      <td>0.0</td>\n",
       "      <td>0.0</td>\n",
       "      <td>0.0</td>\n",
       "    </tr>\n",
       "    <tr>\n",
       "      <th>1</th>\n",
       "      <td>0.0</td>\n",
       "      <td>0.0</td>\n",
       "      <td>0.0</td>\n",
       "      <td>0.000000</td>\n",
       "      <td>0.0</td>\n",
       "      <td>0.0</td>\n",
       "      <td>0.0</td>\n",
       "      <td>0.0</td>\n",
       "      <td>0.0</td>\n",
       "      <td>0.0</td>\n",
       "      <td>...</td>\n",
       "      <td>0.000000</td>\n",
       "      <td>0.0</td>\n",
       "      <td>0.0</td>\n",
       "      <td>0.0</td>\n",
       "      <td>0.0</td>\n",
       "      <td>0.0</td>\n",
       "      <td>0.0</td>\n",
       "      <td>0.0</td>\n",
       "      <td>0.0</td>\n",
       "      <td>0.0</td>\n",
       "    </tr>\n",
       "    <tr>\n",
       "      <th>2</th>\n",
       "      <td>0.0</td>\n",
       "      <td>0.0</td>\n",
       "      <td>0.0</td>\n",
       "      <td>0.294618</td>\n",
       "      <td>0.0</td>\n",
       "      <td>0.0</td>\n",
       "      <td>0.0</td>\n",
       "      <td>0.0</td>\n",
       "      <td>0.0</td>\n",
       "      <td>0.0</td>\n",
       "      <td>...</td>\n",
       "      <td>0.000000</td>\n",
       "      <td>0.0</td>\n",
       "      <td>0.0</td>\n",
       "      <td>0.0</td>\n",
       "      <td>0.0</td>\n",
       "      <td>0.0</td>\n",
       "      <td>0.0</td>\n",
       "      <td>0.0</td>\n",
       "      <td>0.0</td>\n",
       "      <td>0.0</td>\n",
       "    </tr>\n",
       "    <tr>\n",
       "      <th>3</th>\n",
       "      <td>0.0</td>\n",
       "      <td>0.0</td>\n",
       "      <td>0.0</td>\n",
       "      <td>0.000000</td>\n",
       "      <td>0.0</td>\n",
       "      <td>0.0</td>\n",
       "      <td>0.0</td>\n",
       "      <td>0.0</td>\n",
       "      <td>0.0</td>\n",
       "      <td>0.0</td>\n",
       "      <td>...</td>\n",
       "      <td>0.000000</td>\n",
       "      <td>0.0</td>\n",
       "      <td>0.0</td>\n",
       "      <td>0.0</td>\n",
       "      <td>0.0</td>\n",
       "      <td>0.0</td>\n",
       "      <td>0.0</td>\n",
       "      <td>0.0</td>\n",
       "      <td>0.0</td>\n",
       "      <td>0.0</td>\n",
       "    </tr>\n",
       "    <tr>\n",
       "      <th>4</th>\n",
       "      <td>0.0</td>\n",
       "      <td>0.0</td>\n",
       "      <td>0.0</td>\n",
       "      <td>0.000000</td>\n",
       "      <td>0.0</td>\n",
       "      <td>0.0</td>\n",
       "      <td>0.0</td>\n",
       "      <td>0.0</td>\n",
       "      <td>0.0</td>\n",
       "      <td>0.0</td>\n",
       "      <td>...</td>\n",
       "      <td>0.000000</td>\n",
       "      <td>0.0</td>\n",
       "      <td>0.0</td>\n",
       "      <td>0.0</td>\n",
       "      <td>0.0</td>\n",
       "      <td>0.0</td>\n",
       "      <td>0.0</td>\n",
       "      <td>0.0</td>\n",
       "      <td>0.0</td>\n",
       "      <td>0.0</td>\n",
       "    </tr>\n",
       "    <tr>\n",
       "      <th>...</th>\n",
       "      <td>...</td>\n",
       "      <td>...</td>\n",
       "      <td>...</td>\n",
       "      <td>...</td>\n",
       "      <td>...</td>\n",
       "      <td>...</td>\n",
       "      <td>...</td>\n",
       "      <td>...</td>\n",
       "      <td>...</td>\n",
       "      <td>...</td>\n",
       "      <td>...</td>\n",
       "      <td>...</td>\n",
       "      <td>...</td>\n",
       "      <td>...</td>\n",
       "      <td>...</td>\n",
       "      <td>...</td>\n",
       "      <td>...</td>\n",
       "      <td>...</td>\n",
       "      <td>...</td>\n",
       "      <td>...</td>\n",
       "      <td>...</td>\n",
       "    </tr>\n",
       "    <tr>\n",
       "      <th>395</th>\n",
       "      <td>0.0</td>\n",
       "      <td>0.0</td>\n",
       "      <td>0.0</td>\n",
       "      <td>0.000000</td>\n",
       "      <td>0.0</td>\n",
       "      <td>0.0</td>\n",
       "      <td>0.0</td>\n",
       "      <td>0.0</td>\n",
       "      <td>0.0</td>\n",
       "      <td>0.0</td>\n",
       "      <td>...</td>\n",
       "      <td>0.000000</td>\n",
       "      <td>0.0</td>\n",
       "      <td>0.0</td>\n",
       "      <td>0.0</td>\n",
       "      <td>0.0</td>\n",
       "      <td>0.0</td>\n",
       "      <td>0.0</td>\n",
       "      <td>0.0</td>\n",
       "      <td>0.0</td>\n",
       "      <td>0.0</td>\n",
       "    </tr>\n",
       "    <tr>\n",
       "      <th>396</th>\n",
       "      <td>0.0</td>\n",
       "      <td>0.0</td>\n",
       "      <td>0.0</td>\n",
       "      <td>0.000000</td>\n",
       "      <td>0.0</td>\n",
       "      <td>0.0</td>\n",
       "      <td>0.0</td>\n",
       "      <td>0.0</td>\n",
       "      <td>0.0</td>\n",
       "      <td>0.0</td>\n",
       "      <td>...</td>\n",
       "      <td>0.000000</td>\n",
       "      <td>0.0</td>\n",
       "      <td>0.0</td>\n",
       "      <td>0.0</td>\n",
       "      <td>0.0</td>\n",
       "      <td>0.0</td>\n",
       "      <td>0.0</td>\n",
       "      <td>0.0</td>\n",
       "      <td>0.0</td>\n",
       "      <td>0.0</td>\n",
       "    </tr>\n",
       "    <tr>\n",
       "      <th>397</th>\n",
       "      <td>0.0</td>\n",
       "      <td>0.0</td>\n",
       "      <td>0.0</td>\n",
       "      <td>0.000000</td>\n",
       "      <td>0.0</td>\n",
       "      <td>0.0</td>\n",
       "      <td>0.0</td>\n",
       "      <td>0.0</td>\n",
       "      <td>0.0</td>\n",
       "      <td>0.0</td>\n",
       "      <td>...</td>\n",
       "      <td>0.000000</td>\n",
       "      <td>0.0</td>\n",
       "      <td>0.0</td>\n",
       "      <td>0.0</td>\n",
       "      <td>0.0</td>\n",
       "      <td>0.0</td>\n",
       "      <td>0.0</td>\n",
       "      <td>0.0</td>\n",
       "      <td>0.0</td>\n",
       "      <td>0.0</td>\n",
       "    </tr>\n",
       "    <tr>\n",
       "      <th>398</th>\n",
       "      <td>0.0</td>\n",
       "      <td>0.0</td>\n",
       "      <td>0.0</td>\n",
       "      <td>0.000000</td>\n",
       "      <td>0.0</td>\n",
       "      <td>0.0</td>\n",
       "      <td>0.0</td>\n",
       "      <td>0.0</td>\n",
       "      <td>0.0</td>\n",
       "      <td>0.0</td>\n",
       "      <td>...</td>\n",
       "      <td>0.000000</td>\n",
       "      <td>0.0</td>\n",
       "      <td>0.0</td>\n",
       "      <td>0.0</td>\n",
       "      <td>0.0</td>\n",
       "      <td>0.0</td>\n",
       "      <td>0.0</td>\n",
       "      <td>0.0</td>\n",
       "      <td>0.0</td>\n",
       "      <td>0.0</td>\n",
       "    </tr>\n",
       "    <tr>\n",
       "      <th>399</th>\n",
       "      <td>0.0</td>\n",
       "      <td>0.0</td>\n",
       "      <td>0.0</td>\n",
       "      <td>0.000000</td>\n",
       "      <td>0.0</td>\n",
       "      <td>0.0</td>\n",
       "      <td>0.0</td>\n",
       "      <td>0.0</td>\n",
       "      <td>0.0</td>\n",
       "      <td>0.0</td>\n",
       "      <td>...</td>\n",
       "      <td>0.000000</td>\n",
       "      <td>0.0</td>\n",
       "      <td>0.0</td>\n",
       "      <td>0.0</td>\n",
       "      <td>0.0</td>\n",
       "      <td>0.0</td>\n",
       "      <td>0.0</td>\n",
       "      <td>0.0</td>\n",
       "      <td>0.0</td>\n",
       "      <td>0.0</td>\n",
       "    </tr>\n",
       "  </tbody>\n",
       "</table>\n",
       "<p>400 rows × 1000 columns</p>\n",
       "</div>"
      ],
      "text/plain": [
       "     aamiin  abal  abang     abege  abis  acara  aduh  agama  agnes  agus  \\\n",
       "0       0.0   0.0    0.0  0.000000   0.0    0.0   0.0    0.0    0.0   0.0   \n",
       "1       0.0   0.0    0.0  0.000000   0.0    0.0   0.0    0.0    0.0   0.0   \n",
       "2       0.0   0.0    0.0  0.294618   0.0    0.0   0.0    0.0    0.0   0.0   \n",
       "3       0.0   0.0    0.0  0.000000   0.0    0.0   0.0    0.0    0.0   0.0   \n",
       "4       0.0   0.0    0.0  0.000000   0.0    0.0   0.0    0.0    0.0   0.0   \n",
       "..      ...   ...    ...       ...   ...    ...   ...    ...    ...   ...   \n",
       "395     0.0   0.0    0.0  0.000000   0.0    0.0   0.0    0.0    0.0   0.0   \n",
       "396     0.0   0.0    0.0  0.000000   0.0    0.0   0.0    0.0    0.0   0.0   \n",
       "397     0.0   0.0    0.0  0.000000   0.0    0.0   0.0    0.0    0.0   0.0   \n",
       "398     0.0   0.0    0.0  0.000000   0.0    0.0   0.0    0.0    0.0   0.0   \n",
       "399     0.0   0.0    0.0  0.000000   0.0    0.0   0.0    0.0    0.0   0.0   \n",
       "\n",
       "     ...        ya  yaa  yaaa  yaampun  yaelah  yah  yes  you  youtube  zaman  \n",
       "0    ...  0.125127  0.0   0.0      0.0     0.0  0.0  0.0  0.0      0.0    0.0  \n",
       "1    ...  0.000000  0.0   0.0      0.0     0.0  0.0  0.0  0.0      0.0    0.0  \n",
       "2    ...  0.000000  0.0   0.0      0.0     0.0  0.0  0.0  0.0      0.0    0.0  \n",
       "3    ...  0.000000  0.0   0.0      0.0     0.0  0.0  0.0  0.0      0.0    0.0  \n",
       "4    ...  0.000000  0.0   0.0      0.0     0.0  0.0  0.0  0.0      0.0    0.0  \n",
       "..   ...       ...  ...   ...      ...     ...  ...  ...  ...      ...    ...  \n",
       "395  ...  0.000000  0.0   0.0      0.0     0.0  0.0  0.0  0.0      0.0    0.0  \n",
       "396  ...  0.000000  0.0   0.0      0.0     0.0  0.0  0.0  0.0      0.0    0.0  \n",
       "397  ...  0.000000  0.0   0.0      0.0     0.0  0.0  0.0  0.0      0.0    0.0  \n",
       "398  ...  0.000000  0.0   0.0      0.0     0.0  0.0  0.0  0.0      0.0    0.0  \n",
       "399  ...  0.000000  0.0   0.0      0.0     0.0  0.0  0.0  0.0      0.0    0.0  \n",
       "\n",
       "[400 rows x 1000 columns]"
      ]
     },
     "execution_count": 24,
     "metadata": {},
     "output_type": "execute_result"
    }
   ],
   "source": [
    "x1 = vect.transform(data['text']).toarray()\n",
    "data_tabular_tf_idf= pd.DataFrame(x1,columns=vect.get_feature_names())\n",
    "data_tabular_tf_idf"
   ]
  },
  {
   "cell_type": "markdown",
   "metadata": {},
   "source": [
    "## Train and Test Split"
   ]
  },
  {
   "cell_type": "code",
   "execution_count": 25,
   "metadata": {},
   "outputs": [
    {
     "name": "stdout",
     "output_type": "stream",
     "text": [
      "Train Data Size:  320\n",
      "Validation Data Size:  40\n",
      "Test Data Size:  40\n"
     ]
    }
   ],
   "source": [
    "from sklearn.model_selection import train_test_split\n",
    "\n",
    "data_train, data_test = train_test_split(data, test_size=0.2, random_state=42)\n",
    "data_val, data_test = train_test_split(data_test, test_size=0.5, random_state=42)\n",
    "\n",
    "print(\"Train Data Size: \", len(data_train))\n",
    "print(\"Validation Data Size: \", len(data_val))\n",
    "print(\"Test Data Size: \", len(data_test))"
   ]
  },
  {
   "cell_type": "markdown",
   "metadata": {},
   "source": [
    "## Load Tokenizer"
   ]
  },
  {
   "cell_type": "code",
   "execution_count": 26,
   "metadata": {},
   "outputs": [],
   "source": [
    "PRE_TRAINED_MODEL = 'indobenchmark/indobert-base-p2'"
   ]
  },
  {
   "cell_type": "code",
   "execution_count": 27,
   "metadata": {},
   "outputs": [],
   "source": [
    "from transformers import BertTokenizer\n",
    "\n",
    "bert_tokenizer = BertTokenizer.from_pretrained(PRE_TRAINED_MODEL)"
   ]
  },
  {
   "cell_type": "code",
   "execution_count": 76,
   "metadata": {},
   "outputs": [
    {
     "name": "stdout",
     "output_type": "stream",
     "text": [
      "Panjang vocabulary: 30521\n"
     ]
    }
   ],
   "source": [
    "vocabulary = bert_tokenizer.get_vocab()\n",
    "\n",
    "print('Panjang vocabulary:', len(vocabulary))"
   ]
  },
  {
   "cell_type": "markdown",
   "metadata": {},
   "source": [
    "## Memilih Panjang Sequence"
   ]
  },
  {
   "cell_type": "code",
   "execution_count": 29,
   "metadata": {},
   "outputs": [
    {
     "data": {
      "text/plain": [
       "Text(0.5, 0, 'Token count')"
      ]
     },
     "execution_count": 29,
     "metadata": {},
     "output_type": "execute_result"
    },
    {
     "data": {
      "image/png": "[encoded data removed]",
      "text/plain": [
       "<Figure size 640x480 with 1 Axes>"
      ]
     },
     "metadata": {},
     "output_type": "display_data"
    }
   ],
   "source": [
    "token_lens = []\n",
    "\n",
    "for txt in data.text:\n",
    "    tokens = bert_tokenizer.encode(txt)\n",
    "    token_lens.append(len(tokens))\n",
    "\n",
    "sns.histplot(token_lens, kde=True, stat='density', linewidth=0)\n",
    "plt.xlim([0, 100]);\n",
    "plt.xlabel('Token count')"
   ]
  },
  {
   "cell_type": "code",
   "execution_count": 30,
   "metadata": {},
   "outputs": [],
   "source": [
    "MAX_LEN = 80"
   ]
  },
  {
   "cell_type": "markdown",
   "metadata": {},
   "source": [
    "Dari plot diatas, saya memilih maximal lenght nya adalah 80 karena pada data selanjutnya tidak dominan atau density-nya sangat kecil."
   ]
  },
  {
   "cell_type": "markdown",
   "metadata": {},
   "source": [
    "### Formatting"
   ]
  },
  {
   "cell_type": "code",
   "execution_count": 31,
   "metadata": {},
   "outputs": [],
   "source": [
    "def encode_sentence(sent):\n",
    "    return bert_tokenizer.encode_plus(\n",
    "        sent,\n",
    "        add_special_tokens = True,\n",
    "        padding = 'max_length',\n",
    "        truncation = 'longest_first',\n",
    "        max_length = MAX_LEN,\n",
    "        return_attention_mask = True,\n",
    "        return_token_type_ids=True\n",
    "    )"
   ]
  },
  {
   "cell_type": "code",
   "execution_count": 32,
   "metadata": {},
   "outputs": [],
   "source": [
    "def map_example_to_dict(input_ids, attention_masks, token_type_ids, label):\n",
    "    return {\n",
    "        \"input_ids\": input_ids,\n",
    "        \"attention_mask\": attention_masks,\n",
    "        \"token_type_ids\": token_type_ids,\n",
    "    }, label"
   ]
  },
  {
   "cell_type": "code",
   "execution_count": 33,
   "metadata": {},
   "outputs": [],
   "source": [
    "def encode(ds, limit=-1):\n",
    "    input_ids_list = []\n",
    "    attention_mask_list = []\n",
    "    token_type_ids_list = []\n",
    "    label_list = []\n",
    "\n",
    "    for index, row in ds.iterrows():\n",
    "        if limit > 0 and index >= limit:\n",
    "            break\n",
    "\n",
    "        input_ids, attention_mask, token_type_ids = encode_sentence(row[\"text\"])[\"input_ids\"], \\\n",
    "                                                    encode_sentence(row[\"text\"])[\"attention_mask\"], \\\n",
    "                                                    encode_sentence(row[\"text\"])[\"token_type_ids\"]\n",
    "        label = row[\"sentiment\"]\n",
    "\n",
    "        input_ids_list.append(input_ids)\n",
    "        attention_mask_list.append(attention_mask)\n",
    "        token_type_ids_list.append(token_type_ids)\n",
    "        label_list.append(label)\n",
    "\n",
    "    return tf.data.Dataset.from_tensor_slices((\n",
    "        input_ids_list,\n",
    "        attention_mask_list,\n",
    "        token_type_ids_list,\n",
    "        label_list\n",
    "    )).map(map_example_to_dict)"
   ]
  },
  {
   "cell_type": "code",
   "execution_count": 34,
   "metadata": {},
   "outputs": [],
   "source": [
    "EPOCHS = 5\n",
    "BATCH_SIZE = 32\n",
    "LEARNING_RATE = 1e-5"
   ]
  },
  {
   "cell_type": "code",
   "execution_count": 35,
   "metadata": {},
   "outputs": [],
   "source": [
    "train_encoded = encode(data_train).shuffle(42).batch(BATCH_SIZE)\n",
    "test_encoded = encode(data_test).batch(BATCH_SIZE)\n",
    "val_encoded = encode(data_val).batch(BATCH_SIZE)"
   ]
  },
  {
   "cell_type": "markdown",
   "metadata": {},
   "source": [
    "## Model"
   ]
  },
  {
   "cell_type": "code",
   "execution_count": 36,
   "metadata": {},
   "outputs": [
    {
     "name": "stderr",
     "output_type": "stream",
     "text": [
      "All model checkpoint layers were used when initializing TFBertForSequenceClassification.\n",
      "\n",
      "Some layers of TFBertForSequenceClassification were not initialized from the model checkpoint at indobenchmark/indobert-base-p2 and are newly initialized: ['classifier']\n",
      "You should probably TRAIN this model on a down-stream task to be able to use it for predictions and inference.\n"
     ]
    }
   ],
   "source": [
    "bert_model = TFBertForSequenceClassification.from_pretrained(PRE_TRAINED_MODEL, num_labels=2)"
   ]
  },
  {
   "cell_type": "code",
   "execution_count": 38,
   "metadata": {},
   "outputs": [],
   "source": [
    "optimizer = tf.keras.optimizers.Adam(learning_rate=LEARNING_RATE)\n",
    "loss = tf.keras.losses.SparseCategoricalCrossentropy(from_logits=True)\n",
    "metric = tf.keras.metrics.SparseCategoricalAccuracy('accuracy')\n",
    "\n",
    "bert_model.compile(optimizer=optimizer, loss=loss, metrics=[metric])"
   ]
  },
  {
   "cell_type": "markdown",
   "metadata": {},
   "source": [
    "## Fine Turning"
   ]
  },
  {
   "cell_type": "code",
   "execution_count": 39,
   "metadata": {},
   "outputs": [
    {
     "name": "stdout",
     "output_type": "stream",
     "text": [
      "Epoch 1/5\n",
      "10/10 [==============================] - 317s 27s/step - loss: 0.6766 - accuracy: 0.5781 - val_loss: 0.5616 - val_accuracy: 0.8750\n",
      "Epoch 2/5\n",
      "10/10 [==============================] - 275s 28s/step - loss: 0.4740 - accuracy: 0.8625 - val_loss: 0.3673 - val_accuracy: 0.9250\n",
      "Epoch 3/5\n",
      "10/10 [==============================] - 272s 27s/step - loss: 0.2703 - accuracy: 0.9344 - val_loss: 0.2734 - val_accuracy: 0.9250\n",
      "Epoch 4/5\n",
      "10/10 [==============================] - 283s 28s/step - loss: 0.1453 - accuracy: 0.9563 - val_loss: 0.2379 - val_accuracy: 0.9000\n",
      "Epoch 5/5\n",
      "10/10 [==============================] - 283s 28s/step - loss: 0.0723 - accuracy: 0.9844 - val_loss: 0.2048 - val_accuracy: 0.9250\n"
     ]
    }
   ],
   "source": [
    "history = bert_model.fit(train_encoded, epochs=EPOCHS, batch_size=BATCH_SIZE, validation_data=val_encoded)"
   ]
  },
  {
   "cell_type": "code",
   "execution_count": 40,
   "metadata": {},
   "outputs": [],
   "source": [
    "def plot_graphs(history, string):\n",
    "    plt.plot(history.history[string])\n",
    "    plt.plot(history.history['val_'+string])\n",
    "    plt.xlabel('Epochs')\n",
    "    plt.ylabel(string)\n",
    "    plt.legend([string, 'val_'+string])\n",
    "    plt.show()"
   ]
  },
  {
   "cell_type": "code",
   "execution_count": 41,
   "metadata": {},
   "outputs": [
    {
     "data": {
      "image/png": "[encoded data removed]",
      "text/plain": [
       "<Figure size 640x480 with 1 Axes>"
      ]
     },
     "metadata": {},
     "output_type": "display_data"
    },
    {
     "data": {
      "image/png": "[encoded data removed]",
      "text/plain": [
       "<Figure size 640x480 with 1 Axes>"
      ]
     },
     "metadata": {},
     "output_type": "display_data"
    }
   ],
   "source": [
    "plot_graphs(history, 'accuracy')\n",
    "plot_graphs(history, 'loss')"
   ]
  },
  {
   "cell_type": "markdown",
   "metadata": {},
   "source": []
  },
  {
   "cell_type": "code",
   "execution_count": 42,
   "metadata": {},
   "outputs": [
    {
     "name": "stdout",
     "output_type": "stream",
     "text": [
      "\n",
      "Epoch No.  Train Accuracy  Train Loss      Val Accuracy    Val Loss\n",
      "       1   0.578125 \t   0.676587 \t   0.875000 \t   0.561577\n",
      "       2   0.862500 \t   0.473993 \t   0.925000 \t   0.367253\n",
      "       3   0.934375 \t   0.270312 \t   0.925000 \t   0.273355\n",
      "       4   0.956250 \t   0.145281 \t   0.900000 \t   0.237856\n",
      "       5   0.984375 \t   0.072272 \t   0.925000 \t   0.204834\n"
     ]
    }
   ],
   "source": [
    "print('\\nEpoch No.  Train Accuracy  Train Loss      Val Accuracy    Val Loss')\n",
    "for i in range(EPOCHS):\n",
    "    print('{:8d} {:10f} \\t {:10f} \\t {:10f} \\t {:10f}'.format(i + 1, history.history['accuracy'][i], history.history['loss'][i], history.history['val_accuracy'][i], history.history['val_loss'][i]))"
   ]
  },
  {
   "cell_type": "markdown",
   "metadata": {},
   "source": [
    "Berikut merupakan perubahan Train Accuracy, Train Loss, Validation Accuracy, Validation Loss pada proses Fine Turning. "
   ]
  },
  {
   "cell_type": "code",
   "execution_count": 43,
   "metadata": {},
   "outputs": [],
   "source": [
    "bert_model.save_weights('bert-model.h5')"
   ]
  },
  {
   "cell_type": "markdown",
   "metadata": {},
   "source": [
    "## Evaluate"
   ]
  },
  {
   "cell_type": "code",
   "execution_count": 44,
   "metadata": {},
   "outputs": [
    {
     "name": "stdout",
     "output_type": "stream",
     "text": [
      "2/2 [==============================] - 8s 2s/step - loss: 0.1254 - accuracy: 0.9500\n",
      "Test Accuracy: 0.949999988079071\n"
     ]
    }
   ],
   "source": [
    "score = bert_model.evaluate(test_encoded)\n",
    "\n",
    "print(\"Test Accuracy:\", score[1])"
   ]
  },
  {
   "cell_type": "code",
   "execution_count": 45,
   "metadata": {},
   "outputs": [
    {
     "name": "stdout",
     "output_type": "stream",
     "text": [
      "2/2 [==============================] - 17s 2s/step\n"
     ]
    }
   ],
   "source": [
    "predicted_raw = bert_model.predict(test_encoded)"
   ]
  },
  {
   "cell_type": "code",
   "execution_count": 46,
   "metadata": {},
   "outputs": [],
   "source": [
    "y_pred = np.argmax(predicted_raw['logits'], axis=1)\n",
    "y_true = np.array(data_test['sentiment'])"
   ]
  },
  {
   "cell_type": "code",
   "execution_count": 49,
   "metadata": {},
   "outputs": [],
   "source": [
    "from sklearn.metrics import confusion_matrix\n",
    "cm = confusion_matrix(y_true, y_pred)"
   ]
  },
  {
   "cell_type": "code",
   "execution_count": 50,
   "metadata": {},
   "outputs": [
    {
     "data": {
      "image/png": "[encoded data removed]",
      "text/plain": [
       "<Figure size 1000x600 with 2 Axes>"
      ]
     },
     "metadata": {},
     "output_type": "display_data"
    }
   ],
   "source": [
    "plt.figure(figsize=(10,6))\n",
    "sns.heatmap(cm, annot=True, fmt='d', cmap='Reds')\n",
    "plt.xlabel('Predicted')\n",
    "plt.ylabel('Truth')\n",
    "plt.show()"
   ]
  },
  {
   "cell_type": "code",
   "execution_count": 51,
   "metadata": {},
   "outputs": [
    {
     "data": {
      "text/plain": [
       "0.95"
      ]
     },
     "execution_count": 51,
     "metadata": {},
     "output_type": "execute_result"
    }
   ],
   "source": [
    "from sklearn.metrics import accuracy_score\n",
    "from sklearn.metrics import confusion_matrix\n",
    "from sklearn.metrics import classification_report\n",
    "\n",
    "accuracy_score(y_true, y_pred)"
   ]
  },
  {
   "cell_type": "code",
   "execution_count": 52,
   "metadata": {},
   "outputs": [
    {
     "name": "stdout",
     "output_type": "stream",
     "text": [
      "              precision    recall  f1-score   support\n",
      "\n",
      "           0       0.95      0.95      0.95        20\n",
      "           1       0.95      0.95      0.95        20\n",
      "\n",
      "    accuracy                           0.95        40\n",
      "   macro avg       0.95      0.95      0.95        40\n",
      "weighted avg       0.95      0.95      0.95        40\n",
      "\n"
     ]
    }
   ],
   "source": [
    "print(classification_report(y_true, y_pred))"
   ]
  },
  {
   "cell_type": "markdown",
   "metadata": {},
   "source": [
    "Setelah dilakukan evaluasi, diperoleh accuracy pada model Fine Turning tersebut adalah 95% yang mana model tersebut memiliki accuracy yang cukup tinggi."
   ]
  },
  {
   "cell_type": "markdown",
   "metadata": {},
   "source": [
    "## Predict"
   ]
  },
  {
   "cell_type": "code",
   "execution_count": 53,
   "metadata": {},
   "outputs": [
    {
     "name": "stderr",
     "output_type": "stream",
     "text": [
      "All model checkpoint layers were used when initializing TFBertForSequenceClassification.\n",
      "\n",
      "Some layers of TFBertForSequenceClassification were not initialized from the model checkpoint at indobenchmark/indobert-base-p2 and are newly initialized: ['classifier']\n",
      "You should probably TRAIN this model on a down-stream task to be able to use it for predictions and inference.\n"
     ]
    }
   ],
   "source": [
    "bert_load_model = TFBertForSequenceClassification.from_pretrained(PRE_TRAINED_MODEL, num_labels=2)\n",
    "bert_load_model.load_weights('bert-model.h5')"
   ]
  },
  {
   "cell_type": "code",
   "execution_count": 70,
   "metadata": {},
   "outputs": [
    {
     "name": "stdout",
     "output_type": "stream",
     "text": [
      "Masukan komentar:suaranya bagus deh\n"
     ]
    }
   ],
   "source": [
    "input_text = input('Masukan komentar:')"
   ]
  },
  {
   "cell_type": "code",
   "execution_count": 71,
   "metadata": {},
   "outputs": [],
   "source": [
    "input_text_tokenized = bert_tokenizer.encode(input_text,\n",
    "                                             truncation=True,\n",
    "                                             padding='max_length',\n",
    "                                             return_tensors='tf')"
   ]
  },
  {
   "cell_type": "code",
   "execution_count": 72,
   "metadata": {},
   "outputs": [],
   "source": [
    "bert_predict = bert_load_model(input_text_tokenized)          \n",
    "bert_output = tf.nn.softmax(bert_predict[0], axis=-1)         "
   ]
  },
  {
   "cell_type": "code",
   "execution_count": 73,
   "metadata": {},
   "outputs": [],
   "source": [
    "labels = [\"negative\", \"positive\"]\n",
    "label = tf.argmax(bert_output, axis=1)\n",
    "label = label.numpy()"
   ]
  },
  {
   "cell_type": "code",
   "execution_count": 74,
   "metadata": {},
   "outputs": [
    {
     "name": "stdout",
     "output_type": "stream",
     "text": [
      "suaranya bagus deh : memiliki sentiment positive\n"
     ]
    }
   ],
   "source": [
    "print(input_text, ': memiliki sentiment', labels[label[0]])"
   ]
  },
  {
   "cell_type": "markdown",
   "metadata": {},
   "source": [
    "Dari proses predict tersebut diperoleh bahwa prediksi yang dilakukan pada model sudah benar apabila user melakukan input dengan komentar jelek maka sentimentnya negative dan apabila user melakukan input dengan komentar baik maka sentimentnya positive."
   ]
  },
  {
   "cell_type": "markdown",
   "metadata": {},
   "source": [
    "## Deployment"
   ]
  },
  {
   "cell_type": "code",
   "execution_count": 68,
   "metadata": {},
   "outputs": [
    {
     "name": "stdout",
     "output_type": "stream",
     "text": [
      "Running on local URL:  http://127.0.0.1:7867\n",
      "\n",
      "To create a public link, set `share=True` in `launch()`.\n"
     ]
    },
    {
     "data": {
      "text/html": [
       "<div><iframe src=\"http://127.0.0.1:7867/\" width=\"900\" height=\"500\" allow=\"autoplay; camera; microphone; clipboard-read; clipboard-write;\" frameborder=\"0\" allowfullscreen></iframe></div>"
      ],
      "text/plain": [
       "<IPython.core.display.HTML object>"
      ]
     },
     "metadata": {},
     "output_type": "display_data"
    },
    {
     "data": {
      "text/plain": [
       "(<gradio.routes.App at 0x13994ec0460>, 'http://127.0.0.1:7867/', None)"
      ]
     },
     "execution_count": 68,
     "metadata": {},
     "output_type": "execute_result"
    }
   ],
   "source": [
    "import gradio as gr\n",
    "\n",
    "labels = [\"negative\", \"positive\"]\n",
    "\n",
    "def predict(comment):\n",
    "    input_ids, attention_mask, token_type_ids = encode_sentence(comment)[\"input_ids\"], \\\n",
    "                                                encode_sentence(comment)[\"attention_mask\"], \\\n",
    "                                                encode_sentence(comment)[\"token_type_ids\"]\n",
    "    input_ids = tf.expand_dims(input_ids, 0)\n",
    "    attention_mask = tf.expand_dims(attention_mask, 0)\n",
    "    token_type_ids = tf.expand_dims(token_type_ids, 0)\n",
    "\n",
    "    outputs = bert_model([input_ids, attention_mask, token_type_ids])\n",
    "    return labels[np.argmax(tf.nn.softmax(outputs[0], axis=1).numpy()[0])]\n",
    "\n",
    "inputs = gr.inputs.Textbox(lines=5, placeholder=\"input text here\")\n",
    "outputs = gr.outputs.Label(num_top_classes=2)\n",
    "\n",
    "gr.Interface(\n",
    "    fn=predict,\n",
    "    inputs=inputs,\n",
    "    outputs=outputs,\n",
    "    title=\"Sentiment Analysis\",\n",
    "    description=\"Sentiment Analysis using BERT Fine Tuning for Sequence Classification\"\n",
    ").launch()"
   ]
  }
 ],
 "metadata": {
  "kernelspec": {
   "display_name": "Python 3 (ipykernel)",
   "language": "python",
   "name": "python3"
  },
  "language_info": {
   "codemirror_mode": {
    "name": "ipython",
    "version": 3
   },
   "file_extension": ".py",
   "mimetype": "text/x-python",
   "name": "python",
   "nbconvert_exporter": "python",
   "pygments_lexer": "ipython3",
   "version": "3.8.5"
  }
 },
 "nbformat": 4,
 "nbformat_minor": 4
}
